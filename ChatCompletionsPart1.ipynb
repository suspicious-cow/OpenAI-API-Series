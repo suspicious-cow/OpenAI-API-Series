{
 "cells": [
  {
   "cell_type": "code",
   "execution_count": 23,
   "metadata": {},
   "outputs": [
    {
     "name": "stdout",
     "output_type": "stream",
     "text": [
      "1. Emperor Penguin\n",
      "2. King Penguin\n",
      "3. Adélie Penguin\n",
      "4. Chinstrap Penguin\n",
      "5. Gentoo Penguin\n",
      "6. Macaroni Penguin\n",
      "7. Rockhopper Penguin\n",
      "8. African Penguin\n",
      "9. Galapagos Penguin\n",
      "10. Little Blue Penguin\n"
     ]
    }
   ],
   "source": [
    "from openai import OpenAI\n",
    "client = OpenAI()\n",
    "completion = client.chat.completions.create(\n",
    "    model=\"gpt-4-turbo-preview\",\n",
    "    messages=[ \n",
    "    {\"role\": \"system\", \"content\": \"You are an expert in penguins.\"},\n",
    "    {\"role\": \"user\", \"content\": \"Give me a list of 10 species of penguins in the world. Just give me the list and nothing else.\"}\n",
    "    ],\n",
    "    temperature=1,\n",
    "    max_tokens=256,\n",
    "    stop=None,\n",
    "    top_p=1,\n",
    "    frequency_penalty=0,\n",
    "    presence_penalty=0,\n",
    ")\n",
    "\n",
    "# After getting just the content of the message\n",
    "print(completion.choices[0].message.content)\n",
    "\n"
   ]
  }
 ],
 "metadata": {
  "kernelspec": {
   "display_name": "NormalProgramming",
   "language": "python",
   "name": "python3"
  },
  "language_info": {
   "codemirror_mode": {
    "name": "ipython",
    "version": 3
   },
   "file_extension": ".py",
   "mimetype": "text/x-python",
   "name": "python",
   "nbconvert_exporter": "python",
   "pygments_lexer": "ipython3",
   "version": "3.11.4"
  }
 },
 "nbformat": 4,
 "nbformat_minor": 2
}
