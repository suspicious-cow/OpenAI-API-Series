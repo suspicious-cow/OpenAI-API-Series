{
 "cells": [
  {
   "cell_type": "code",
   "execution_count": 5,
   "metadata": {},
   "outputs": [
    {
     "name": "stdout",
     "output_type": "stream",
     "text": [
      "1. Emperor Penguin\n",
      "2. King Penguin\n",
      "3. Adelie Penguin\n",
      "4. Chinstrap Penguin\n",
      "5. Gentoo Penguin\n"
     ]
    }
   ],
   "source": [
    "from openai import OpenAI\n",
    "client = OpenAI()\n",
    "completion = client.chat.completions.create(\n",
    "    model=\"gpt-4-turbo-preview\",\n",
    "    messages=[ \n",
    "    {\"role\": \"system\", \"content\": \"You are an expert in penguins.\"},\n",
    "    {\"role\": \"user\", \"content\": \"Give me a list of 5 species of penguins in the world. Just give me the list and nothing else.\"}\n",
    "    ],\n",
    "    temperature=1,\n",
    "    max_tokens=256,\n",
    "    stop=None,\n",
    "    top_p=1,\n",
    "    frequency_penalty=0,\n",
    "    presence_penalty=0,\n",
    ")\n",
    "\n",
    "# After getting just the content of the message\n",
    "print(completion.choices[0].message.content)"
   ]
  },
  {
   "cell_type": "code",
   "execution_count": 14,
   "metadata": {},
   "outputs": [
    {
     "name": "stdout",
     "output_type": "stream",
     "text": [
      "Moderation(categories=Categories(harassment=False, harassment_threatening=False, hate=False, hate_threatening=False, self_harm=False, self_harm_instructions=False, self_harm_intent=False, sexual=False, sexual_minors=False, violence=False, violence_graphic=False, self-harm=False, sexual/minors=False, hate/threatening=False, violence/graphic=False, self-harm/intent=False, self-harm/instructions=False, harassment/threatening=False), category_scores=CategoryScores(harassment=0.0001835661823861301, harassment_threatening=3.993876816821285e-06, hate=2.7356401915312745e-05, hate_threatening=1.2607359849425848e-06, self_harm=1.3413207398116356e-06, self_harm_instructions=1.6119029169203714e-05, self_harm_intent=1.414909365848871e-05, sexual=8.976996468845755e-06, sexual_minors=1.0141618986381218e-05, violence=5.635781053570099e-05, violence_graphic=7.66711491451133e-06, self-harm=1.3413207398116356e-06, sexual/minors=1.0141618986381218e-05, hate/threatening=1.2607359849425848e-06, violence/graphic=7.66711491451133e-06, self-harm/intent=1.414909365848871e-05, self-harm/instructions=1.6119029169203714e-05, harassment/threatening=3.993876816821285e-06), flagged=False)\n",
      "\n",
      "\n",
      "\n",
      "Categories(harassment=False, harassment_threatening=False, hate=False, hate_threatening=False, self_harm=False, self_harm_instructions=False, self_harm_intent=False, sexual=False, sexual_minors=False, violence=False, violence_graphic=False, self-harm=False, sexual/minors=False, hate/threatening=False, violence/graphic=False, self-harm/intent=False, self-harm/instructions=False, harassment/threatening=False)\n",
      "\n",
      "\n",
      "\n",
      "CategoryScores(harassment=0.0001835661823861301, harassment_threatening=3.993876816821285e-06, hate=2.7356401915312745e-05, hate_threatening=1.2607359849425848e-06, self_harm=1.3413207398116356e-06, self_harm_instructions=1.6119029169203714e-05, self_harm_intent=1.414909365848871e-05, sexual=8.976996468845755e-06, sexual_minors=1.0141618986381218e-05, violence=5.635781053570099e-05, violence_graphic=7.66711491451133e-06, self-harm=1.3413207398116356e-06, sexual/minors=1.0141618986381218e-05, hate/threatening=1.2607359849425848e-06, violence/graphic=7.66711491451133e-06, self-harm/intent=1.414909365848871e-05, self-harm/instructions=1.6119029169203714e-05, harassment/threatening=3.993876816821285e-06)\n",
      "\n",
      "\n",
      "\n",
      "False\n",
      "\n",
      "\n",
      "\n",
      "0.0001835661823861301\n",
      "\n",
      "\n",
      "\n",
      "1. Emperor Penguin\n",
      "2. Adélie Penguin\n",
      "3. King Penguin\n",
      "4. Galápagos Penguin\n",
      "5. Little Blue Penguin\n"
     ]
    }
   ],
   "source": [
    "# with moderation\n",
    "from openai import OpenAI\n",
    "\n",
    "client = OpenAI()\n",
    "\n",
    "user_prompt = \"Give me a list of 5 species of penguins in the world. Just give me the list and nothing else.\"\n",
    "\n",
    "moderation_result = client.moderations.create(input=user_prompt)\n",
    "\n",
    "print(moderation_result.results[0])\n",
    "print(\"\\n\\n\")\n",
    "print(moderation_result.results[0].categories)\n",
    "print(\"\\n\\n\")\n",
    "print(moderation_result.results[0].category_scores)\n",
    "print(\"\\n\\n\")\n",
    "print(moderation_result.results[0].categories.harassment)\n",
    "print(\"\\n\\n\")\n",
    "print(moderation_result.results[0].category_scores.harassment)\n",
    "print(\"\\n\\n\")\n",
    "\n",
    "completion = client.chat.completions.create(\n",
    "    model=\"gpt-4-turbo-preview\",\n",
    "    messages=[ \n",
    "    {\"role\": \"system\", \"content\": \"You are a helpful assistant.\"},\n",
    "    {\"role\": \"user\", \"content\": user_prompt}\n",
    "    ],\n",
    "    temperature=1,\n",
    "    max_tokens=256,\n",
    "    stop=None,\n",
    "    top_p=1,\n",
    "    frequency_penalty=0,\n",
    "    presence_penalty=0,\n",
    ")\n",
    "\n",
    "# After getting just the content of the message\n",
    "print(completion.choices[0].message.content)"
   ]
  },
  {
   "cell_type": "code",
   "execution_count": null,
   "metadata": {},
   "outputs": [],
   "source": []
  }
 ],
 "metadata": {
  "kernelspec": {
   "display_name": "NormalProgramming",
   "language": "python",
   "name": "python3"
  },
  "language_info": {
   "codemirror_mode": {
    "name": "ipython",
    "version": 3
   },
   "file_extension": ".py",
   "mimetype": "text/x-python",
   "name": "python",
   "nbconvert_exporter": "python",
   "pygments_lexer": "ipython3",
   "version": "3.11.4"
  }
 },
 "nbformat": 4,
 "nbformat_minor": 2
}
