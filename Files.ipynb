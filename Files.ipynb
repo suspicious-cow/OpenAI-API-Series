{
 "cells": [
  {
   "cell_type": "markdown",
   "metadata": {},
   "source": [
    "# Files\n",
    "Files are used to upload documents that can be used with features like Assistants, Fine-tuning, and Batches."
   ]
  },
  {
   "cell_type": "code",
   "execution_count": 3,
   "metadata": {},
   "outputs": [
    {
     "data": {
      "text/plain": [
       "FileObject(id='file-QOaaVG3d7SCvbSpOuCTbdKes', bytes=21, created_at=1713459945, filename='SecondFile.txt', object='file', purpose='assistants', status='processed', status_details=None)"
      ]
     },
     "execution_count": 3,
     "metadata": {},
     "output_type": "execute_result"
    }
   ],
   "source": [
    "# upload our file\n",
    "from openai import OpenAI\n",
    "client = OpenAI()\n",
    "\n",
    "client.files.create(\n",
    "    file=open(\"./FilesDemoAssets/FirstFile.txt\", \"rb\"),\n",
    "    purpose=\"assistants\"\n",
    ")\n",
    "\n",
    "client.files.create(\n",
    "    file=open(\"./FilesDemoAssets/SecondFile.txt\", \"rb\"),\n",
    "    purpose=\"assistants\"\n",
    ")\n",
    "\n",
    "client.files.create(\n",
    "    file=open(\"./FilesDemoAssets/FirstFile.txt\", \"rb\"),\n",
    "    purpose=\"assistants\"\n",
    ")\n"
   ]
  },
  {
   "cell_type": "code",
   "execution_count": 17,
   "metadata": {},
   "outputs": [
    {
     "name": "stdout",
     "output_type": "stream",
     "text": [
      "SyncPage[FileObject](data=[FileObject(id='file-QOaaVG3d7SCvbSpOuCTbdKes', bytes=21, created_at=1713459945, filename='SecondFile.txt', object='file', purpose='assistants', status='processed', status_details=None), FileObject(id='file-1A7rG2EMoMpuFQjoTBasflm5', bytes=26, created_at=1713459944, filename='FirstFile.txt', object='file', purpose='assistants', status='processed', status_details=None), FileObject(id='file-g9iLKb2GdgK5EYEa9ZfJOPRi', bytes=26, created_at=1713459796, filename='FirstFile.txt', object='file', purpose='assistants', status='processed', status_details=None), FileObject(id='file-pthV4VHFFfrkMQ0LSmrwXXGA', bytes=2022, created_at=1705512417, filename='Headline and Copy Guidance v1.txt', object='file', purpose='assistants', status='processed', status_details=None), FileObject(id='file-7SbCxEcZaGgkn9D6aMKGwOQX', bytes=1811609, created_at=1700700890, filename='communications-campaign-best-practices.pdf', object='file', purpose='assistants', status='processed', status_details=None), FileObject(id='file-3cqVYvSomYORzpzicpMQfcH6', bytes=4798766, created_at=1700700890, filename='The-Definitive-Guide-to-Digital-Advertising.pdf', object='file', purpose='assistants', status='processed', status_details=None)], object='list', has_more=False)\n",
      "\n",
      "\n",
      "\n",
      "[FileObject(id='file-QOaaVG3d7SCvbSpOuCTbdKes', bytes=21, created_at=1713459945, filename='SecondFile.txt', object='file', purpose='assistants', status='processed', status_details=None), FileObject(id='file-1A7rG2EMoMpuFQjoTBasflm5', bytes=26, created_at=1713459944, filename='FirstFile.txt', object='file', purpose='assistants', status='processed', status_details=None), FileObject(id='file-g9iLKb2GdgK5EYEa9ZfJOPRi', bytes=26, created_at=1713459796, filename='FirstFile.txt', object='file', purpose='assistants', status='processed', status_details=None), FileObject(id='file-pthV4VHFFfrkMQ0LSmrwXXGA', bytes=2022, created_at=1705512417, filename='Headline and Copy Guidance v1.txt', object='file', purpose='assistants', status='processed', status_details=None), FileObject(id='file-7SbCxEcZaGgkn9D6aMKGwOQX', bytes=1811609, created_at=1700700890, filename='communications-campaign-best-practices.pdf', object='file', purpose='assistants', status='processed', status_details=None), FileObject(id='file-3cqVYvSomYORzpzicpMQfcH6', bytes=4798766, created_at=1700700890, filename='The-Definitive-Guide-to-Digital-Advertising.pdf', object='file', purpose='assistants', status='processed', status_details=None)]\n",
      "\n",
      "\n",
      "\n",
      "[FileObject(id='file-QOaaVG3d7SCvbSpOuCTbdKes', bytes=21, created_at=1713459945, filename='SecondFile.txt', object='file', purpose='assistants', status='processed', status_details=None), FileObject(id='file-1A7rG2EMoMpuFQjoTBasflm5', bytes=26, created_at=1713459944, filename='FirstFile.txt', object='file', purpose='assistants', status='processed', status_details=None), FileObject(id='file-g9iLKb2GdgK5EYEa9ZfJOPRi', bytes=26, created_at=1713459796, filename='FirstFile.txt', object='file', purpose='assistants', status='processed', status_details=None), FileObject(id='file-pthV4VHFFfrkMQ0LSmrwXXGA', bytes=2022, created_at=1705512417, filename='Headline and Copy Guidance v1.txt', object='file', purpose='assistants', status='processed', status_details=None), FileObject(id='file-7SbCxEcZaGgkn9D6aMKGwOQX', bytes=1811609, created_at=1700700890, filename='communications-campaign-best-practices.pdf', object='file', purpose='assistants', status='processed', status_details=None), FileObject(id='file-3cqVYvSomYORzpzicpMQfcH6', bytes=4798766, created_at=1700700890, filename='The-Definitive-Guide-to-Digital-Advertising.pdf', object='file', purpose='assistants', status='processed', status_details=None)]\n",
      "\n",
      "\n",
      "\n",
      "SecondFile.txt\n"
     ]
    }
   ],
   "source": [
    "# List the files\n",
    "from openai import OpenAI\n",
    "client = OpenAI()\n",
    "\n",
    "print(client.files.list(purpose=\"assistants\"))\n",
    "print(\"\\n\\n\")\n",
    "print(client.files.list(purpose=\"assistants\").data)\n",
    "print(\"\\n\\n\")\n",
    "print(client.files.list().data)\n",
    "print(\"\\n\\n\")\n",
    "print(client.files.list(purpose=\"assistants\").data[0].filename)"
   ]
  },
  {
   "cell_type": "code",
   "execution_count": 24,
   "metadata": {},
   "outputs": [
    {
     "name": "stdout",
     "output_type": "stream",
     "text": [
      "File ID for 'FirstFile.txt': file-1A7rG2EMoMpuFQjoTBasflm5\n"
     ]
    }
   ],
   "source": [
    "# Get file ID by filename the long way\n",
    "from openai import OpenAI\n",
    "\n",
    "# Function to get file ID by filename\n",
    "def get_file_id_by_filename(files, filename):\n",
    "    for file in files:\n",
    "        if file.filename == filename:\n",
    "            return file.id\n",
    "    return None\n",
    "\n",
    "client = OpenAI()\n",
    "\n",
    "# Simulate fetching the files list\n",
    "files_list = client.files.list(purpose=\"assistants\").data\n",
    "\n",
    "# File name you are searching for\n",
    "search_filename = \"FirstFile.txt\"\n",
    "\n",
    "# Get file ID by filename\n",
    "file_id = get_file_id_by_filename(files_list, search_filename)\n",
    "if file_id:\n",
    "    print(f\"File ID for '{search_filename}': {file_id}\")\n",
    "else:\n",
    "    print(f\"No file found with filename '{search_filename}'.\")"
   ]
  },
  {
   "cell_type": "code",
   "execution_count": 25,
   "metadata": {},
   "outputs": [
    {
     "name": "stdout",
     "output_type": "stream",
     "text": [
      "File ID: file-1A7rG2EMoMpuFQjoTBasflm5\n"
     ]
    }
   ],
   "source": [
    "# Get file ID by filename the short way\n",
    "from openai import OpenAI\n",
    "\n",
    "# Search for the file ID by filename in a single line\n",
    "file_id = next((file.id for file in client.files.list(purpose=\"assistants\").data if file.filename == \"FirstFile.txt\"), None)\n",
    "\n",
    "# Print the result\n",
    "if file_id:\n",
    "    print(f\"File ID: {file_id}\")\n",
    "else:\n",
    "    print(\"No file found with that filename.\")"
   ]
  },
  {
   "cell_type": "code",
   "execution_count": 26,
   "metadata": {},
   "outputs": [
    {
     "name": "stdout",
     "output_type": "stream",
     "text": [
      "FileObject(id='file-QOaaVG3d7SCvbSpOuCTbdKes', bytes=21, created_at=1713459945, filename='SecondFile.txt', object='file', purpose='assistants', status='processed', status_details=None)\n",
      "FileObject(id='file-1A7rG2EMoMpuFQjoTBasflm5', bytes=26, created_at=1713459944, filename='FirstFile.txt', object='file', purpose='assistants', status='processed', status_details=None)\n"
     ]
    }
   ],
   "source": [
    "# Retrieve files\n",
    "from openai import OpenAI\n",
    "\n",
    "client = OpenAI()\n",
    "# retrieve using the id\n",
    "print(client.files.retrieve(\"file-QOaaVG3d7SCvbSpOuCTbdKes\"))\n",
    "\n",
    "# retrieve file information using the filename\n",
    "# Search for the file ID by filename in a single line\n",
    "file_id = next((file.id for file in client.files.list(purpose=\"assistants\").data if file.filename == \"FirstFile.txt\"), None)\n",
    "\n",
    "\n",
    "print(client.files.retrieve(file_id))\n",
    "\n"
   ]
  },
  {
   "cell_type": "code",
   "execution_count": 27,
   "metadata": {},
   "outputs": [
    {
     "name": "stderr",
     "output_type": "stream",
     "text": [
      "C:\\Users\\Zain\\AppData\\Local\\Temp\\ipykernel_31224\\1722062194.py:11: DeprecationWarning: The `.content()` method should be used instead\n",
      "  print(client.files.retrieve_content(file_id))\n"
     ]
    },
    {
     "ename": "BadRequestError",
     "evalue": "Error code: 400 - {'error': {'message': 'Not allowed to download files of purpose: assistants', 'type': 'invalid_request_error', 'param': None, 'code': None}}",
     "output_type": "error",
     "traceback": [
      "\u001b[1;31m---------------------------------------------------------------------------\u001b[0m",
      "\u001b[1;31mBadRequestError\u001b[0m                           Traceback (most recent call last)",
      "Cell \u001b[1;32mIn[27], line 11\u001b[0m\n\u001b[0;32m      6\u001b[0m \u001b[38;5;66;03m# retrieve file information using the filename\u001b[39;00m\n\u001b[0;32m      7\u001b[0m \u001b[38;5;66;03m# Search for the file ID by filename in a single line\u001b[39;00m\n\u001b[0;32m      8\u001b[0m file_id \u001b[38;5;241m=\u001b[39m \u001b[38;5;28mnext\u001b[39m((file\u001b[38;5;241m.\u001b[39mid \u001b[38;5;28;01mfor\u001b[39;00m file \u001b[38;5;129;01min\u001b[39;00m client\u001b[38;5;241m.\u001b[39mfiles\u001b[38;5;241m.\u001b[39mlist(purpose\u001b[38;5;241m=\u001b[39m\u001b[38;5;124m\"\u001b[39m\u001b[38;5;124massistants\u001b[39m\u001b[38;5;124m\"\u001b[39m)\u001b[38;5;241m.\u001b[39mdata \u001b[38;5;28;01mif\u001b[39;00m file\u001b[38;5;241m.\u001b[39mfilename \u001b[38;5;241m==\u001b[39m \u001b[38;5;124m\"\u001b[39m\u001b[38;5;124mFirstFile.txt\u001b[39m\u001b[38;5;124m\"\u001b[39m), \u001b[38;5;28;01mNone\u001b[39;00m)\n\u001b[1;32m---> 11\u001b[0m \u001b[38;5;28mprint\u001b[39m(client\u001b[38;5;241m.\u001b[39mfiles\u001b[38;5;241m.\u001b[39mretrieve_content(file_id))\n",
      "File \u001b[1;32me:\\ProgramFiles\\anaconda3\\envs\\NormalProgramming\\Lib\\site-packages\\typing_extensions.py:2499\u001b[0m, in \u001b[0;36mdeprecated.__call__.<locals>.wrapper\u001b[1;34m(*args, **kwargs)\u001b[0m\n\u001b[0;32m   2496\u001b[0m \u001b[38;5;129m@functools\u001b[39m\u001b[38;5;241m.\u001b[39mwraps(arg)\n\u001b[0;32m   2497\u001b[0m \u001b[38;5;28;01mdef\u001b[39;00m \u001b[38;5;21mwrapper\u001b[39m(\u001b[38;5;241m*\u001b[39margs, \u001b[38;5;241m*\u001b[39m\u001b[38;5;241m*\u001b[39mkwargs):\n\u001b[0;32m   2498\u001b[0m     warnings\u001b[38;5;241m.\u001b[39mwarn(msg, category\u001b[38;5;241m=\u001b[39mcategory, stacklevel\u001b[38;5;241m=\u001b[39mstacklevel \u001b[38;5;241m+\u001b[39m \u001b[38;5;241m1\u001b[39m)\n\u001b[1;32m-> 2499\u001b[0m     \u001b[38;5;28;01mreturn\u001b[39;00m arg(\u001b[38;5;241m*\u001b[39margs, \u001b[38;5;241m*\u001b[39m\u001b[38;5;241m*\u001b[39mkwargs)\n",
      "File \u001b[1;32me:\\ProgramFiles\\anaconda3\\envs\\NormalProgramming\\Lib\\site-packages\\openai\\resources\\files.py:276\u001b[0m, in \u001b[0;36mFiles.retrieve_content\u001b[1;34m(self, file_id, extra_headers, extra_query, extra_body, timeout)\u001b[0m\n\u001b[0;32m    274\u001b[0m     \u001b[38;5;28;01mraise\u001b[39;00m \u001b[38;5;167;01mValueError\u001b[39;00m(\u001b[38;5;124mf\u001b[39m\u001b[38;5;124m\"\u001b[39m\u001b[38;5;124mExpected a non-empty value for `file_id` but received \u001b[39m\u001b[38;5;132;01m{\u001b[39;00mfile_id\u001b[38;5;132;01m!r}\u001b[39;00m\u001b[38;5;124m\"\u001b[39m)\n\u001b[0;32m    275\u001b[0m extra_headers \u001b[38;5;241m=\u001b[39m {\u001b[38;5;124m\"\u001b[39m\u001b[38;5;124mAccept\u001b[39m\u001b[38;5;124m\"\u001b[39m: \u001b[38;5;124m\"\u001b[39m\u001b[38;5;124mapplication/json\u001b[39m\u001b[38;5;124m\"\u001b[39m, \u001b[38;5;241m*\u001b[39m\u001b[38;5;241m*\u001b[39m(extra_headers \u001b[38;5;129;01mor\u001b[39;00m {})}\n\u001b[1;32m--> 276\u001b[0m \u001b[38;5;28;01mreturn\u001b[39;00m \u001b[38;5;28mself\u001b[39m\u001b[38;5;241m.\u001b[39m_get(\n\u001b[0;32m    277\u001b[0m     \u001b[38;5;124mf\u001b[39m\u001b[38;5;124m\"\u001b[39m\u001b[38;5;124m/files/\u001b[39m\u001b[38;5;132;01m{\u001b[39;00mfile_id\u001b[38;5;132;01m}\u001b[39;00m\u001b[38;5;124m/content\u001b[39m\u001b[38;5;124m\"\u001b[39m,\n\u001b[0;32m    278\u001b[0m     options\u001b[38;5;241m=\u001b[39mmake_request_options(\n\u001b[0;32m    279\u001b[0m         extra_headers\u001b[38;5;241m=\u001b[39mextra_headers, extra_query\u001b[38;5;241m=\u001b[39mextra_query, extra_body\u001b[38;5;241m=\u001b[39mextra_body, timeout\u001b[38;5;241m=\u001b[39mtimeout\n\u001b[0;32m    280\u001b[0m     ),\n\u001b[0;32m    281\u001b[0m     cast_to\u001b[38;5;241m=\u001b[39m\u001b[38;5;28mstr\u001b[39m,\n\u001b[0;32m    282\u001b[0m )\n",
      "File \u001b[1;32me:\\ProgramFiles\\anaconda3\\envs\\NormalProgramming\\Lib\\site-packages\\openai\\_base_client.py:1123\u001b[0m, in \u001b[0;36mSyncAPIClient.get\u001b[1;34m(self, path, cast_to, options, stream, stream_cls)\u001b[0m\n\u001b[0;32m   1120\u001b[0m opts \u001b[38;5;241m=\u001b[39m FinalRequestOptions\u001b[38;5;241m.\u001b[39mconstruct(method\u001b[38;5;241m=\u001b[39m\u001b[38;5;124m\"\u001b[39m\u001b[38;5;124mget\u001b[39m\u001b[38;5;124m\"\u001b[39m, url\u001b[38;5;241m=\u001b[39mpath, \u001b[38;5;241m*\u001b[39m\u001b[38;5;241m*\u001b[39moptions)\n\u001b[0;32m   1121\u001b[0m \u001b[38;5;66;03m# cast is required because mypy complains about returning Any even though\u001b[39;00m\n\u001b[0;32m   1122\u001b[0m \u001b[38;5;66;03m# it understands the type variables\u001b[39;00m\n\u001b[1;32m-> 1123\u001b[0m \u001b[38;5;28;01mreturn\u001b[39;00m cast(ResponseT, \u001b[38;5;28mself\u001b[39m\u001b[38;5;241m.\u001b[39mrequest(cast_to, opts, stream\u001b[38;5;241m=\u001b[39mstream, stream_cls\u001b[38;5;241m=\u001b[39mstream_cls))\n",
      "File \u001b[1;32me:\\ProgramFiles\\anaconda3\\envs\\NormalProgramming\\Lib\\site-packages\\openai\\_base_client.py:869\u001b[0m, in \u001b[0;36mSyncAPIClient.request\u001b[1;34m(self, cast_to, options, remaining_retries, stream, stream_cls)\u001b[0m\n\u001b[0;32m    860\u001b[0m \u001b[38;5;28;01mdef\u001b[39;00m \u001b[38;5;21mrequest\u001b[39m(\n\u001b[0;32m    861\u001b[0m     \u001b[38;5;28mself\u001b[39m,\n\u001b[0;32m    862\u001b[0m     cast_to: Type[ResponseT],\n\u001b[1;32m   (...)\u001b[0m\n\u001b[0;32m    867\u001b[0m     stream_cls: \u001b[38;5;28mtype\u001b[39m[_StreamT] \u001b[38;5;241m|\u001b[39m \u001b[38;5;28;01mNone\u001b[39;00m \u001b[38;5;241m=\u001b[39m \u001b[38;5;28;01mNone\u001b[39;00m,\n\u001b[0;32m    868\u001b[0m ) \u001b[38;5;241m-\u001b[39m\u001b[38;5;241m>\u001b[39m ResponseT \u001b[38;5;241m|\u001b[39m _StreamT:\n\u001b[1;32m--> 869\u001b[0m     \u001b[38;5;28;01mreturn\u001b[39;00m \u001b[38;5;28mself\u001b[39m\u001b[38;5;241m.\u001b[39m_request(\n\u001b[0;32m    870\u001b[0m         cast_to\u001b[38;5;241m=\u001b[39mcast_to,\n\u001b[0;32m    871\u001b[0m         options\u001b[38;5;241m=\u001b[39moptions,\n\u001b[0;32m    872\u001b[0m         stream\u001b[38;5;241m=\u001b[39mstream,\n\u001b[0;32m    873\u001b[0m         stream_cls\u001b[38;5;241m=\u001b[39mstream_cls,\n\u001b[0;32m    874\u001b[0m         remaining_retries\u001b[38;5;241m=\u001b[39mremaining_retries,\n\u001b[0;32m    875\u001b[0m     )\n",
      "File \u001b[1;32me:\\ProgramFiles\\anaconda3\\envs\\NormalProgramming\\Lib\\site-packages\\openai\\_base_client.py:960\u001b[0m, in \u001b[0;36mSyncAPIClient._request\u001b[1;34m(self, cast_to, options, remaining_retries, stream, stream_cls)\u001b[0m\n\u001b[0;32m    957\u001b[0m         err\u001b[38;5;241m.\u001b[39mresponse\u001b[38;5;241m.\u001b[39mread()\n\u001b[0;32m    959\u001b[0m     log\u001b[38;5;241m.\u001b[39mdebug(\u001b[38;5;124m\"\u001b[39m\u001b[38;5;124mRe-raising status error\u001b[39m\u001b[38;5;124m\"\u001b[39m)\n\u001b[1;32m--> 960\u001b[0m     \u001b[38;5;28;01mraise\u001b[39;00m \u001b[38;5;28mself\u001b[39m\u001b[38;5;241m.\u001b[39m_make_status_error_from_response(err\u001b[38;5;241m.\u001b[39mresponse) \u001b[38;5;28;01mfrom\u001b[39;00m \u001b[38;5;28;01mNone\u001b[39;00m\n\u001b[0;32m    962\u001b[0m \u001b[38;5;28;01mreturn\u001b[39;00m \u001b[38;5;28mself\u001b[39m\u001b[38;5;241m.\u001b[39m_process_response(\n\u001b[0;32m    963\u001b[0m     cast_to\u001b[38;5;241m=\u001b[39mcast_to,\n\u001b[0;32m    964\u001b[0m     options\u001b[38;5;241m=\u001b[39moptions,\n\u001b[1;32m   (...)\u001b[0m\n\u001b[0;32m    967\u001b[0m     stream_cls\u001b[38;5;241m=\u001b[39mstream_cls,\n\u001b[0;32m    968\u001b[0m )\n",
      "\u001b[1;31mBadRequestError\u001b[0m: Error code: 400 - {'error': {'message': 'Not allowed to download files of purpose: assistants', 'type': 'invalid_request_error', 'param': None, 'code': None}}"
     ]
    }
   ],
   "source": [
    "# Retrieve file content\n",
    "from openai import OpenAI\n",
    "\n",
    "client = OpenAI()\n",
    "\n",
    "# retrieve file information using the filename\n",
    "# Search for the file ID by filename in a single line\n",
    "file_id = next((file.id for file in client.files.list(purpose=\"assistants\").data if file.filename == \"FirstFile.txt\"), None)\n",
    "\n",
    "#deprecated method to retrieve content\n",
    "print(client.files.retrieve_content(file_id))"
   ]
  },
  {
   "cell_type": "code",
   "execution_count": 28,
   "metadata": {},
   "outputs": [
    {
     "name": "stdout",
     "output_type": "stream",
     "text": [
      "Current files: ['SecondFile.txt', 'FirstFile.txt', 'FirstFile.txt', 'Headline and Copy Guidance v1.txt', 'communications-campaign-best-practices.pdf', 'The-Definitive-Guide-to-Digital-Advertising.pdf']\n",
      "FileDeleted(id='file-1A7rG2EMoMpuFQjoTBasflm5', deleted=True, object='file')\n",
      "New list of files: ['SecondFile.txt', 'FirstFile.txt', 'Headline and Copy Guidance v1.txt', 'communications-campaign-best-practices.pdf', 'The-Definitive-Guide-to-Digital-Advertising.pdf']\n"
     ]
    }
   ],
   "source": [
    "# delete file\n",
    "from openai import OpenAI\n",
    "\n",
    "client = OpenAI()\n",
    "\n",
    "# current list of files\n",
    "filenames = [file.filename for file in client.files.list(purpose=\"assistants\").data]\n",
    "print(f\"Current files: {filenames}\")\n",
    "\n",
    "\n",
    "# retrieve file information using the filename\n",
    "# Search for the file ID by filename in a single line\n",
    "file_id = next((file.id for file in client.files.list(purpose=\"assistants\").data if file.filename == \"FirstFile.txt\"), None)\n",
    "\n",
    "#deprecated method to retrieve content\n",
    "print(client.files.delete(file_id))\n",
    "\n",
    "# new list of files\n",
    "# current list of files\n",
    "filenames = [file.filename for file in client.files.list(purpose=\"assistants\").data]\n",
    "print(f\"New list of files: {filenames}\")"
   ]
  }
 ],
 "metadata": {
  "kernelspec": {
   "display_name": "NormalProgramming",
   "language": "python",
   "name": "python3"
  },
  "language_info": {
   "codemirror_mode": {
    "name": "ipython",
    "version": 3
   },
   "file_extension": ".py",
   "mimetype": "text/x-python",
   "name": "python",
   "nbconvert_exporter": "python",
   "pygments_lexer": "ipython3",
   "version": "3.11.4"
  }
 },
 "nbformat": 4,
 "nbformat_minor": 2
}
