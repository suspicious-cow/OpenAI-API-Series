{
 "cells": [
  {
   "cell_type": "markdown",
   "metadata": {},
   "source": [
    "# Chat Completions Part 2\n",
    "\n",
    "## n (integer or null)\n",
    "How many chat completion choices to generate for each input message. Note that you will be charged based on the number of generated tokens across all of the choices. Keep n as 1 to minimize costs."
   ]
  },
  {
   "cell_type": "code",
   "execution_count": 40,
   "metadata": {},
   "outputs": [
    {
     "name": "stdout",
     "output_type": "stream",
     "text": [
      "To sleep well, one must create a comfortable and restful environment, establish a consistent bedtime routine, and manage stress and anxiety effectively.\n",
      "To sleep well, one should follow good sleep hygiene practices, such as maintaining a regular sleep schedule, creating a comfortable and quiet sleeping environment, and avoiding caffeine and electronics before bedtime.\n",
      "To sleep well, ensure your bedroom is a comfortable, calm sanctuary dedicated to rest. Maintain a cool, quiet, and dark environment, and stick to a consistent sleep schedule. Avoid stimulants like caffeine and electronics before bedtime, and establish a relaxing pre-sleep routine. Keep your mattress and pillows supportive and comfortable, and consider using white noise machines or earplugs if necessary to block out disturbances. Prioritize sleep hygiene to improve your overall health and well-being.\n"
     ]
    }
   ],
   "source": [
    "from openai import OpenAI\n",
    "client = OpenAI()\n",
    "completion = client.chat.completions.create(\n",
    "    model=\"gpt-4-turbo-preview\",\n",
    "    messages=[ \n",
    "    {\"role\": \"system\", \"content\": \"You are a helpful assistant.\"},\n",
    "    {\"role\": \"user\", \"content\": \"Complete the following phrase: To sleep well\"}\n",
    "    ],\n",
    "    temperature=1,\n",
    "    max_tokens=256,\n",
    "    stop=None,\n",
    "    top_p=1,\n",
    "    frequency_penalty=0,\n",
    "    presence_penalty=0,\n",
    "    n=3,\n",
    ")\n",
    "\n",
    "print(completion.choices[0].message.content)\n",
    "print(completion.choices[1].message.content)\n",
    "print(completion.choices[2].message.content)\n",
    "\n"
   ]
  },
  {
   "cell_type": "markdown",
   "metadata": {},
   "source": [
    "## response_format (object)\n",
    "An object specifying the format that the model must output.\n",
    "Important: when using JSON mode, you must also instruct the model to produce JSON yourself via a system or user message."
   ]
  },
  {
   "cell_type": "code",
   "execution_count": 43,
   "metadata": {},
   "outputs": [
    {
     "name": "stdout",
     "output_type": "stream",
     "text": [
      "{\n",
      "  \"penguin_species\": [\n",
      "    {\n",
      "      \"name\": \"Emperor Penguin\",\n",
      "      \"scientific_name\": \"Aptenodytes forsteri\"\n",
      "    },\n",
      "    {\n",
      "      \"name\": \"Adélie Penguin\",\n",
      "      \"scientific_name\": \"Pygoscelis adeliae\"\n",
      "    },\n",
      "    {\n",
      "      \"name\": \"King Penguin\",\n",
      "      \"scientific_name\": \"Aptenodytes patagonicus\"\n",
      "    }\n",
      "  ]\n",
      "}\n"
     ]
    }
   ],
   "source": [
    "from openai import OpenAI\n",
    "client = OpenAI()\n",
    "completion = client.chat.completions.create(\n",
    "    model=\"gpt-4-turbo-preview\",\n",
    "    messages=[ \n",
    "    {\"role\": \"system\", \"content\": \"You are an expert in penguins\"},\n",
    "    {\"role\": \"user\", \"content\": \"Give me the names of 3 species of penguins and put the answer in JSON format\"}\n",
    "    ],\n",
    "    temperature=1,\n",
    "    max_tokens=256,\n",
    "    stop=None,\n",
    "    top_p=1,\n",
    "    frequency_penalty=0,\n",
    "    presence_penalty=0,\n",
    "    response_format={\"type\":\"json_object\"},\n",
    ")\n",
    "\n",
    "print(completion.choices[0].message.content)"
   ]
  },
  {
   "cell_type": "markdown",
   "metadata": {},
   "source": [
    "## seed (integer or null)\n",
    "system will make a best effort to sample deterministically, such that repeated requests with the same seed and parameters should return the same result."
   ]
  },
  {
   "cell_type": "code",
   "execution_count": 49,
   "metadata": {},
   "outputs": [
    {
     "name": "stdout",
     "output_type": "stream",
     "text": [
      "To sleep well, one must create a comfortable and relaxing environment conducive to restful sleep. This includes establishing a regular sleep schedule, minimizing exposure to screens before bedtime, ensuring the bedroom is dark, quiet, and cool, and avoiding caffeine and heavy meals before sleep. Engaging in a calming bedtime routine, such as reading or practicing relaxation techniques, can also promote better sleep quality.\n"
     ]
    }
   ],
   "source": [
    "from openai import OpenAI\n",
    "client = OpenAI()\n",
    "completion = client.chat.completions.create(\n",
    "    model=\"gpt-4-turbo-preview\",\n",
    "    messages=[ \n",
    "    {\"role\": \"system\", \"content\": \"You are a helpful assistant.\"},\n",
    "    {\"role\": \"user\", \"content\": \"Complete the following phrase: To sleep well\"}\n",
    "    ],\n",
    "    temperature=1,\n",
    "    max_tokens=256,\n",
    "    stop=None,\n",
    "    top_p=1,\n",
    "    frequency_penalty=0,\n",
    "    presence_penalty=0,\n",
    "    n=3,\n",
    "    seed=1337,\n",
    ")\n",
    "\n",
    "print(completion.choices[0].message.content)"
   ]
  },
  {
   "cell_type": "markdown",
   "metadata": {},
   "source": [
    "## user (string)\n",
    "A unique identifier representing your end-user, which can help OpenAI to monitor and detect abuse."
   ]
  },
  {
   "cell_type": "code",
   "execution_count": 55,
   "metadata": {},
   "outputs": [
    {
     "name": "stdout",
     "output_type": "stream",
     "text": [
      "To sleep well, avoid caffeine and electronics before bedtime, maintain a regular sleep schedule, create a comfortable sleep environment, and relax your mind and body.\n"
     ]
    }
   ],
   "source": [
    "from openai import OpenAI\n",
    "client = OpenAI()\n",
    "completion = client.chat.completions.create(\n",
    "    model=\"gpt-4-turbo-preview\",\n",
    "    messages=[ \n",
    "    {\"role\": \"system\", \"content\": \"You are a helpful assistant.\"},\n",
    "    {\"role\": \"user\", \"content\": \"Complete the following phrase: To sleep well\"}\n",
    "    ],\n",
    "    temperature=1,\n",
    "    max_tokens=256,\n",
    "    stop=None,\n",
    "    top_p=1,\n",
    "    frequency_penalty=0,\n",
    "    presence_penalty=0,\n",
    "    user=\"bubba@barbq.com\",\n",
    ")\n",
    "\n",
    "print(completion.choices[0].message.content)"
   ]
  }
 ],
 "metadata": {
  "kernelspec": {
   "display_name": "NormalProgramming",
   "language": "python",
   "name": "python3"
  },
  "language_info": {
   "codemirror_mode": {
    "name": "ipython",
    "version": 3
   },
   "file_extension": ".py",
   "mimetype": "text/x-python",
   "name": "python",
   "nbconvert_exporter": "python",
   "pygments_lexer": "ipython3",
   "version": "3.11.4"
  }
 },
 "nbformat": 4,
 "nbformat_minor": 2
}
