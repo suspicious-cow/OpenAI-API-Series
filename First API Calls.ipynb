{
 "cells": [
  {
   "cell_type": "code",
   "execution_count": 1,
   "metadata": {},
   "outputs": [
    {
     "name": "stdout",
     "output_type": "stream",
     "text": [
      "ChatCompletionMessage(content='1. Emperor Penguin\\n2. King Penguin\\n3. Adélie Penguin\\n4. Chinstrap Penguin\\n5. Gentoo Penguin\\n6. Macaroni Penguin\\n7. Rockhopper Penguin\\n8. Galapagos Penguin\\n9. African Penguin\\n10. Little Blue Penguin', role='assistant', function_call=None, tool_calls=None)\n"
     ]
    }
   ],
   "source": [
    "from openai import OpenAI\n",
    "client = OpenAI()\n",
    "\n",
    "completion = client.chat.completions.create(\n",
    "  model=\"gpt-4-turbo-preview\",\n",
    "  messages=[\n",
    "    {\"role\": \"system\", \"content\": \"You are an expert in penguins.\"},\n",
    "    {\"role\": \"user\", \"content\": \"Give me a list of 10 species of penguins in the world. Just give me the list and nothing else.\"}\n",
    "  ]\n",
    ")\n",
    "print(completion.choices[0].message)"
   ]
  },
  {
   "cell_type": "code",
   "execution_count": 2,
   "metadata": {},
   "outputs": [
    {
     "name": "stdout",
     "output_type": "stream",
     "text": [
      "1. Emperor Penguin\n",
      "2. King Penguin\n",
      "3. Adélie Penguin\n",
      "4. Chinstrap Penguin\n",
      "5. Gentoo Penguin\n",
      "6. Macaroni Penguin\n",
      "7. Rockhopper Penguin\n",
      "8. Galapagos Penguin\n",
      "9. African Penguin\n",
      "10. Little Blue Penguin\n"
     ]
    }
   ],
   "source": [
    "# Just get the content of the message\n",
    "print(completion.choices[0].message.content)"
   ]
  },
  {
   "cell_type": "code",
   "execution_count": 3,
   "metadata": {},
   "outputs": [
    {
     "name": "stdout",
     "output_type": "stream",
     "text": [
      "{'id': 'chatcmpl-8ytnOFeQTUYmqkIqke9Gl6HMDkyQr', 'object': 'chat.completion', 'created': 1709524850, 'model': 'gpt-4-0125-preview', 'choices': [{'index': 0, 'message': {'role': 'assistant', 'content': '1. Emperor Penguin\\n2. King Penguin\\n3. Adelie Penguin\\n4. Chinstrap Penguin\\n5. Gentoo Penguin\\n6. Rockhopper Penguin\\n7. Macaroni Penguin\\n8. Royal Penguin\\n9. Fiordland Penguin\\n10. Galapagos Penguin'}, 'logprobs': None, 'finish_reason': 'stop'}], 'usage': {'prompt_tokens': 43, 'completion_tokens': 61, 'total_tokens': 104}, 'system_fingerprint': 'fp_70b2088885'}\n"
     ]
    }
   ],
   "source": [
    "import requests\n",
    "import json\n",
    "import os\n",
    "\n",
    "# Fetch the API key from environment variables\n",
    "api_key = os.getenv('OPENAI_API_KEY')\n",
    "\n",
    "# Define the headers\n",
    "headers = {\n",
    "    'Authorization': f'Bearer {api_key}',\n",
    "    'Content-Type': 'application/json',\n",
    "}\n",
    "\n",
    "# Chat Completions request data\n",
    "data = {\n",
    "    'model': 'gpt-4-turbo-preview',  \n",
    "    'messages': [\n",
    "        {'role': 'system', 'content': \"You are an expert in penguins.\"},\n",
    "        {'role': 'user', 'content': \"Give me a list of 10 species of penguins in the world. Just give me the list and nothing else.\"}\n",
    "    ]\n",
    "}\n",
    "\n",
    "response = requests.post('https://api.openai.com/v1/chat/completions', headers=headers, data=json.dumps(data))\n",
    "print(response.json())\n"
   ]
  },
  {
   "cell_type": "code",
   "execution_count": 4,
   "metadata": {},
   "outputs": [
    {
     "name": "stdout",
     "output_type": "stream",
     "text": [
      "1. Emperor Penguin\n",
      "2. King Penguin\n",
      "3. Adelie Penguin\n",
      "4. Chinstrap Penguin\n",
      "5. Gentoo Penguin\n",
      "6. Rockhopper Penguin\n",
      "7. Macaroni Penguin\n",
      "8. Royal Penguin\n",
      "9. Fiordland Penguin\n",
      "10. Galapagos Penguin\n"
     ]
    }
   ],
   "source": [
    "# Assuming 'response' is our variable that holds the JSON response from the API\n",
    "response_data = response.json()\n",
    "\n",
    "# Extracting the list of penguins from the response\n",
    "penguin_list = response_data['choices'][0]['message']['content']\n",
    "\n",
    "print(penguin_list)\n"
   ]
  }
 ],
 "metadata": {
  "kernelspec": {
   "display_name": "ctmsai",
   "language": "python",
   "name": "python3"
  },
  "language_info": {
   "codemirror_mode": {
    "name": "ipython",
    "version": 3
   },
   "file_extension": ".py",
   "mimetype": "text/x-python",
   "name": "python",
   "nbconvert_exporter": "python",
   "pygments_lexer": "ipython3",
   "version": "3.10.13"
  }
 },
 "nbformat": 4,
 "nbformat_minor": 2
}
